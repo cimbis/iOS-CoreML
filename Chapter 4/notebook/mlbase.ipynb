{
 "cells": [
  {
   "cell_type": "code",
   "execution_count": 8,
   "outputs": [],
   "source": [
    "import numpy as np\n",
    "import pandas as pd\n",
    "import matplotlib.pyplot as plt"
   ],
   "metadata": {
    "collapsed": false,
    "pycharm": {
     "name": "#%%\n"
    }
   }
  },
  {
   "cell_type": "code",
   "execution_count": 9,
   "outputs": [
    {
     "data": {
      "text/plain": "                                title                author  \\\n0                    When You Are Old  William Butler Yeats   \n1       On being asked for a War Poem  William Butler Yeats   \n2  He Wishes For The Cloths Of Heaven  William Butler Yeats   \n3     He Wishes His Beloved Were Dead  William Butler Yeats   \n4                     A Drinking Song  William Butler Yeats   \n\n                                                text  \n0  When you are old and grey and full of sleep,\\n...  \n1  I think it better that in times like these\\nA ...  \n2  Had I the heavens' embroidered cloths,\\nEnwrou...  \n3  Were you but lying cold and dead,\\nAnd lights ...  \n4  Wine comes in at the mouth\\nAnd love comes in ...  ",
      "text/html": "<div>\n<style scoped>\n    .dataframe tbody tr th:only-of-type {\n        vertical-align: middle;\n    }\n\n    .dataframe tbody tr th {\n        vertical-align: top;\n    }\n\n    .dataframe thead th {\n        text-align: right;\n    }\n</style>\n<table border=\"1\" class=\"dataframe\">\n  <thead>\n    <tr style=\"text-align: right;\">\n      <th></th>\n      <th>title</th>\n      <th>author</th>\n      <th>text</th>\n    </tr>\n  </thead>\n  <tbody>\n    <tr>\n      <td>0</td>\n      <td>When You Are Old</td>\n      <td>William Butler Yeats</td>\n      <td>When you are old and grey and full of sleep,\\n...</td>\n    </tr>\n    <tr>\n      <td>1</td>\n      <td>On being asked for a War Poem</td>\n      <td>William Butler Yeats</td>\n      <td>I think it better that in times like these\\nA ...</td>\n    </tr>\n    <tr>\n      <td>2</td>\n      <td>He Wishes For The Cloths Of Heaven</td>\n      <td>William Butler Yeats</td>\n      <td>Had I the heavens' embroidered cloths,\\nEnwrou...</td>\n    </tr>\n    <tr>\n      <td>3</td>\n      <td>He Wishes His Beloved Were Dead</td>\n      <td>William Butler Yeats</td>\n      <td>Were you but lying cold and dead,\\nAnd lights ...</td>\n    </tr>\n    <tr>\n      <td>4</td>\n      <td>A Drinking Song</td>\n      <td>William Butler Yeats</td>\n      <td>Wine comes in at the mouth\\nAnd love comes in ...</td>\n    </tr>\n  </tbody>\n</table>\n</div>"
     },
     "execution_count": 2,
     "metadata": {},
     "output_type": "execute_result"
    },
    {
     "data": {
      "text/plain": "                                title                author  \\\n0                    When You Are Old  William Butler Yeats   \n1       On being asked for a War Poem  William Butler Yeats   \n2  He Wishes For The Cloths Of Heaven  William Butler Yeats   \n3     He Wishes His Beloved Were Dead  William Butler Yeats   \n4                     A Drinking Song  William Butler Yeats   \n\n                                                text  \n0  When you are old and grey and full of sleep,\\n...  \n1  I think it better that in times like these\\nA ...  \n2  Had I the heavens' embroidered cloths,\\nEnwrou...  \n3  Were you but lying cold and dead,\\nAnd lights ...  \n4  Wine comes in at the mouth\\nAnd love comes in ...  ",
      "text/html": "<div>\n<style scoped>\n    .dataframe tbody tr th:only-of-type {\n        vertical-align: middle;\n    }\n\n    .dataframe tbody tr th {\n        vertical-align: top;\n    }\n\n    .dataframe thead th {\n        text-align: right;\n    }\n</style>\n<table border=\"1\" class=\"dataframe\">\n  <thead>\n    <tr style=\"text-align: right;\">\n      <th></th>\n      <th>title</th>\n      <th>author</th>\n      <th>text</th>\n    </tr>\n  </thead>\n  <tbody>\n    <tr>\n      <td>0</td>\n      <td>When You Are Old</td>\n      <td>William Butler Yeats</td>\n      <td>When you are old and grey and full of sleep,\\n...</td>\n    </tr>\n    <tr>\n      <td>1</td>\n      <td>On being asked for a War Poem</td>\n      <td>William Butler Yeats</td>\n      <td>I think it better that in times like these\\nA ...</td>\n    </tr>\n    <tr>\n      <td>2</td>\n      <td>He Wishes For The Cloths Of Heaven</td>\n      <td>William Butler Yeats</td>\n      <td>Had I the heavens' embroidered cloths,\\nEnwrou...</td>\n    </tr>\n    <tr>\n      <td>3</td>\n      <td>He Wishes His Beloved Were Dead</td>\n      <td>William Butler Yeats</td>\n      <td>Were you but lying cold and dead,\\nAnd lights ...</td>\n    </tr>\n    <tr>\n      <td>4</td>\n      <td>A Drinking Song</td>\n      <td>William Butler Yeats</td>\n      <td>Wine comes in at the mouth\\nAnd love comes in ...</td>\n    </tr>\n  </tbody>\n</table>\n</div>"
     },
     "execution_count": 9,
     "metadata": {},
     "output_type": "execute_result"
    }
   ],
   "source": [
    "data = pd.read_json('corpus.json', orient='records')\n",
    "data.head()"
   ],
   "metadata": {
    "collapsed": false,
    "pycharm": {
     "name": "#%%\n"
    }
   }
  },
  {
   "cell_type": "code",
   "execution_count": 10,
   "outputs": [
    {
     "data": {
      "text/plain": "                                      title       author  \\\n516                    Serenade (For Music)  Oscar Wilde   \n517                           Roses And Rue  Oscar Wilde   \n518  From Spring Days To Winter (For Music)  Oscar Wilde   \n\n                                                  text  \n516  The western wind is blowing fair\\nAcross the d...  \n517  (To L. L.)\\n\\nCould we dig up this long-buried...  \n518  In the glad springtime when leaves were green,...  ",
      "text/html": "<div>\n<style scoped>\n    .dataframe tbody tr th:only-of-type {\n        vertical-align: middle;\n    }\n\n    .dataframe tbody tr th {\n        vertical-align: top;\n    }\n\n    .dataframe thead th {\n        text-align: right;\n    }\n</style>\n<table border=\"1\" class=\"dataframe\">\n  <thead>\n    <tr style=\"text-align: right;\">\n      <th></th>\n      <th>title</th>\n      <th>author</th>\n      <th>text</th>\n    </tr>\n  </thead>\n  <tbody>\n    <tr>\n      <td>516</td>\n      <td>Serenade (For Music)</td>\n      <td>Oscar Wilde</td>\n      <td>The western wind is blowing fair\\nAcross the d...</td>\n    </tr>\n    <tr>\n      <td>517</td>\n      <td>Roses And Rue</td>\n      <td>Oscar Wilde</td>\n      <td>(To L. L.)\\n\\nCould we dig up this long-buried...</td>\n    </tr>\n    <tr>\n      <td>518</td>\n      <td>From Spring Days To Winter (For Music)</td>\n      <td>Oscar Wilde</td>\n      <td>In the glad springtime when leaves were green,...</td>\n    </tr>\n  </tbody>\n</table>\n</div>"
     },
     "execution_count": 3,
     "metadata": {},
     "output_type": "execute_result"
    },
    {
     "data": {
      "text/plain": "                                      title       author  \\\n516                    Serenade (For Music)  Oscar Wilde   \n517                           Roses And Rue  Oscar Wilde   \n518  From Spring Days To Winter (For Music)  Oscar Wilde   \n\n                                                  text  \n516  The western wind is blowing fair\\nAcross the d...  \n517  (To L. L.)\\n\\nCould we dig up this long-buried...  \n518  In the glad springtime when leaves were green,...  ",
      "text/html": "<div>\n<style scoped>\n    .dataframe tbody tr th:only-of-type {\n        vertical-align: middle;\n    }\n\n    .dataframe tbody tr th {\n        vertical-align: top;\n    }\n\n    .dataframe thead th {\n        text-align: right;\n    }\n</style>\n<table border=\"1\" class=\"dataframe\">\n  <thead>\n    <tr style=\"text-align: right;\">\n      <th></th>\n      <th>title</th>\n      <th>author</th>\n      <th>text</th>\n    </tr>\n  </thead>\n  <tbody>\n    <tr>\n      <td>516</td>\n      <td>Serenade (For Music)</td>\n      <td>Oscar Wilde</td>\n      <td>The western wind is blowing fair\\nAcross the d...</td>\n    </tr>\n    <tr>\n      <td>517</td>\n      <td>Roses And Rue</td>\n      <td>Oscar Wilde</td>\n      <td>(To L. L.)\\n\\nCould we dig up this long-buried...</td>\n    </tr>\n    <tr>\n      <td>518</td>\n      <td>From Spring Days To Winter (For Music)</td>\n      <td>Oscar Wilde</td>\n      <td>In the glad springtime when leaves were green,...</td>\n    </tr>\n  </tbody>\n</table>\n</div>"
     },
     "execution_count": 10,
     "metadata": {},
     "output_type": "execute_result"
    }
   ],
   "source": [
    "data.tail(3)"
   ],
   "metadata": {
    "collapsed": false,
    "pycharm": {
     "name": "#%%\n"
    }
   }
  },
  {
   "cell_type": "code",
   "execution_count": 11,
   "outputs": [
    {
     "data": {
      "text/plain": "                                           title           author  \\\ncount                                        519              519   \nunique                                       516               10   \ntop     Song of the Indian Maid, from 'Endymion'  Emily Dickinson   \nfreq                                           2              361   \n\n                                                     text  \ncount                                                 519  \nunique                                                517  \ntop     O SORROW!\\n   Why dost borrow\\n   The natural ...  \nfreq                                                    2  ",
      "text/html": "<div>\n<style scoped>\n    .dataframe tbody tr th:only-of-type {\n        vertical-align: middle;\n    }\n\n    .dataframe tbody tr th {\n        vertical-align: top;\n    }\n\n    .dataframe thead th {\n        text-align: right;\n    }\n</style>\n<table border=\"1\" class=\"dataframe\">\n  <thead>\n    <tr style=\"text-align: right;\">\n      <th></th>\n      <th>title</th>\n      <th>author</th>\n      <th>text</th>\n    </tr>\n  </thead>\n  <tbody>\n    <tr>\n      <td>count</td>\n      <td>519</td>\n      <td>519</td>\n      <td>519</td>\n    </tr>\n    <tr>\n      <td>unique</td>\n      <td>516</td>\n      <td>10</td>\n      <td>517</td>\n    </tr>\n    <tr>\n      <td>top</td>\n      <td>Song of the Indian Maid, from 'Endymion'</td>\n      <td>Emily Dickinson</td>\n      <td>O SORROW!\\n   Why dost borrow\\n   The natural ...</td>\n    </tr>\n    <tr>\n      <td>freq</td>\n      <td>2</td>\n      <td>361</td>\n      <td>2</td>\n    </tr>\n  </tbody>\n</table>\n</div>"
     },
     "execution_count": 4,
     "metadata": {},
     "output_type": "execute_result"
    },
    {
     "data": {
      "text/plain": "                                           title           author  \\\ncount                                        519              519   \nunique                                       516               10   \ntop     Song of the Indian Maid, from 'Endymion'  Emily Dickinson   \nfreq                                           2              361   \n\n                                                     text  \ncount                                                 519  \nunique                                                517  \ntop     O SORROW!\\n   Why dost borrow\\n   The natural ...  \nfreq                                                    2  ",
      "text/html": "<div>\n<style scoped>\n    .dataframe tbody tr th:only-of-type {\n        vertical-align: middle;\n    }\n\n    .dataframe tbody tr th {\n        vertical-align: top;\n    }\n\n    .dataframe thead th {\n        text-align: right;\n    }\n</style>\n<table border=\"1\" class=\"dataframe\">\n  <thead>\n    <tr style=\"text-align: right;\">\n      <th></th>\n      <th>title</th>\n      <th>author</th>\n      <th>text</th>\n    </tr>\n  </thead>\n  <tbody>\n    <tr>\n      <td>count</td>\n      <td>519</td>\n      <td>519</td>\n      <td>519</td>\n    </tr>\n    <tr>\n      <td>unique</td>\n      <td>516</td>\n      <td>10</td>\n      <td>517</td>\n    </tr>\n    <tr>\n      <td>top</td>\n      <td>Song of the Indian Maid, from 'Endymion'</td>\n      <td>Emily Dickinson</td>\n      <td>O SORROW!\\n   Why dost borrow\\n   The natural ...</td>\n    </tr>\n    <tr>\n      <td>freq</td>\n      <td>2</td>\n      <td>361</td>\n      <td>2</td>\n    </tr>\n  </tbody>\n</table>\n</div>"
     },
     "execution_count": 11,
     "metadata": {},
     "output_type": "execute_result"
    }
   ],
   "source": [
    "data.describe()"
   ],
   "metadata": {
    "collapsed": false,
    "pycharm": {
     "name": "#%%\n"
    }
   }
  },
  {
   "cell_type": "code",
   "execution_count": 12,
   "outputs": [
    {
     "data": {
      "text/plain": "                                        title           author  \\\n69               \"Arcturus\" is his other name  Emily Dickinson   \n81                \"Faith\" is a fine invention  Emily Dickinson   \n224             \"Faithful to the end\" Amended  Emily Dickinson   \n356       \"Heaven\" -- is what I cannot reach!  Emily Dickinson   \n193  \"Heaven\" has different Signs -- to me --  Emily Dickinson   \n..                                        ...              ...   \n21                Written On A Summer Evening       John Keats   \n58                      Yesterday is History,  Emily Dickinson   \n408               You Are Old, Father William    Lewis Carroll   \n281     You know that Portrait in the Moon --  Emily Dickinson   \n122     You see I cannot see -- your lifetime  Emily Dickinson   \n\n                                                  text  \n69   \"Arcturus\" is his other name --\\nI'd rather ca...  \n81   \"Faith\" is a fine invention\\nWhen Gentlemen ca...  \n224  \"Faithful to the end\" Amended\\nFrom the Heaven...  \n356  \"Heaven\" -- is what I cannot reach!\\nThe Apple...  \n193  \"Heaven\" has different Signs -- to me --\\nSome...  \n..                                                 ...  \n21   The church bells toll a melancholy round,\\nCal...  \n58   Yesterday is History,\\n'Tis so far away --\\nYe...  \n408  \"You are old, Father william,\" the young man s...  \n281  You know that Portrait in the Moon --\\nSo tell...  \n122  You see I cannot see -- your lifetime --\\nI mu...  \n\n[519 rows x 3 columns]",
      "text/html": "<div>\n<style scoped>\n    .dataframe tbody tr th:only-of-type {\n        vertical-align: middle;\n    }\n\n    .dataframe tbody tr th {\n        vertical-align: top;\n    }\n\n    .dataframe thead th {\n        text-align: right;\n    }\n</style>\n<table border=\"1\" class=\"dataframe\">\n  <thead>\n    <tr style=\"text-align: right;\">\n      <th></th>\n      <th>title</th>\n      <th>author</th>\n      <th>text</th>\n    </tr>\n  </thead>\n  <tbody>\n    <tr>\n      <td>69</td>\n      <td>\"Arcturus\" is his other name</td>\n      <td>Emily Dickinson</td>\n      <td>\"Arcturus\" is his other name --\\nI'd rather ca...</td>\n    </tr>\n    <tr>\n      <td>81</td>\n      <td>\"Faith\" is a fine invention</td>\n      <td>Emily Dickinson</td>\n      <td>\"Faith\" is a fine invention\\nWhen Gentlemen ca...</td>\n    </tr>\n    <tr>\n      <td>224</td>\n      <td>\"Faithful to the end\" Amended</td>\n      <td>Emily Dickinson</td>\n      <td>\"Faithful to the end\" Amended\\nFrom the Heaven...</td>\n    </tr>\n    <tr>\n      <td>356</td>\n      <td>\"Heaven\" -- is what I cannot reach!</td>\n      <td>Emily Dickinson</td>\n      <td>\"Heaven\" -- is what I cannot reach!\\nThe Apple...</td>\n    </tr>\n    <tr>\n      <td>193</td>\n      <td>\"Heaven\" has different Signs -- to me --</td>\n      <td>Emily Dickinson</td>\n      <td>\"Heaven\" has different Signs -- to me --\\nSome...</td>\n    </tr>\n    <tr>\n      <td>...</td>\n      <td>...</td>\n      <td>...</td>\n      <td>...</td>\n    </tr>\n    <tr>\n      <td>21</td>\n      <td>Written On A Summer Evening</td>\n      <td>John Keats</td>\n      <td>The church bells toll a melancholy round,\\nCal...</td>\n    </tr>\n    <tr>\n      <td>58</td>\n      <td>Yesterday is History,</td>\n      <td>Emily Dickinson</td>\n      <td>Yesterday is History,\\n'Tis so far away --\\nYe...</td>\n    </tr>\n    <tr>\n      <td>408</td>\n      <td>You Are Old, Father William</td>\n      <td>Lewis Carroll</td>\n      <td>\"You are old, Father william,\" the young man s...</td>\n    </tr>\n    <tr>\n      <td>281</td>\n      <td>You know that Portrait in the Moon --</td>\n      <td>Emily Dickinson</td>\n      <td>You know that Portrait in the Moon --\\nSo tell...</td>\n    </tr>\n    <tr>\n      <td>122</td>\n      <td>You see I cannot see -- your lifetime</td>\n      <td>Emily Dickinson</td>\n      <td>You see I cannot see -- your lifetime --\\nI mu...</td>\n    </tr>\n  </tbody>\n</table>\n<p>519 rows × 3 columns</p>\n</div>"
     },
     "execution_count": 5,
     "metadata": {},
     "output_type": "execute_result"
    },
    {
     "data": {
      "text/plain": "                                        title           author  \\\n69               \"Arcturus\" is his other name  Emily Dickinson   \n81                \"Faith\" is a fine invention  Emily Dickinson   \n224             \"Faithful to the end\" Amended  Emily Dickinson   \n356       \"Heaven\" -- is what I cannot reach!  Emily Dickinson   \n193  \"Heaven\" has different Signs -- to me --  Emily Dickinson   \n..                                        ...              ...   \n21                Written On A Summer Evening       John Keats   \n58                      Yesterday is History,  Emily Dickinson   \n408               You Are Old, Father William    Lewis Carroll   \n281     You know that Portrait in the Moon --  Emily Dickinson   \n122     You see I cannot see -- your lifetime  Emily Dickinson   \n\n                                                  text  \n69   \"Arcturus\" is his other name --\\nI'd rather ca...  \n81   \"Faith\" is a fine invention\\nWhen Gentlemen ca...  \n224  \"Faithful to the end\" Amended\\nFrom the Heaven...  \n356  \"Heaven\" -- is what I cannot reach!\\nThe Apple...  \n193  \"Heaven\" has different Signs -- to me --\\nSome...  \n..                                                 ...  \n21   The church bells toll a melancholy round,\\nCal...  \n58   Yesterday is History,\\n'Tis so far away --\\nYe...  \n408  \"You are old, Father william,\" the young man s...  \n281  You know that Portrait in the Moon --\\nSo tell...  \n122  You see I cannot see -- your lifetime --\\nI mu...  \n\n[519 rows x 3 columns]",
      "text/html": "<div>\n<style scoped>\n    .dataframe tbody tr th:only-of-type {\n        vertical-align: middle;\n    }\n\n    .dataframe tbody tr th {\n        vertical-align: top;\n    }\n\n    .dataframe thead th {\n        text-align: right;\n    }\n</style>\n<table border=\"1\" class=\"dataframe\">\n  <thead>\n    <tr style=\"text-align: right;\">\n      <th></th>\n      <th>title</th>\n      <th>author</th>\n      <th>text</th>\n    </tr>\n  </thead>\n  <tbody>\n    <tr>\n      <td>69</td>\n      <td>\"Arcturus\" is his other name</td>\n      <td>Emily Dickinson</td>\n      <td>\"Arcturus\" is his other name --\\nI'd rather ca...</td>\n    </tr>\n    <tr>\n      <td>81</td>\n      <td>\"Faith\" is a fine invention</td>\n      <td>Emily Dickinson</td>\n      <td>\"Faith\" is a fine invention\\nWhen Gentlemen ca...</td>\n    </tr>\n    <tr>\n      <td>224</td>\n      <td>\"Faithful to the end\" Amended</td>\n      <td>Emily Dickinson</td>\n      <td>\"Faithful to the end\" Amended\\nFrom the Heaven...</td>\n    </tr>\n    <tr>\n      <td>356</td>\n      <td>\"Heaven\" -- is what I cannot reach!</td>\n      <td>Emily Dickinson</td>\n      <td>\"Heaven\" -- is what I cannot reach!\\nThe Apple...</td>\n    </tr>\n    <tr>\n      <td>193</td>\n      <td>\"Heaven\" has different Signs -- to me --</td>\n      <td>Emily Dickinson</td>\n      <td>\"Heaven\" has different Signs -- to me --\\nSome...</td>\n    </tr>\n    <tr>\n      <td>...</td>\n      <td>...</td>\n      <td>...</td>\n      <td>...</td>\n    </tr>\n    <tr>\n      <td>21</td>\n      <td>Written On A Summer Evening</td>\n      <td>John Keats</td>\n      <td>The church bells toll a melancholy round,\\nCal...</td>\n    </tr>\n    <tr>\n      <td>58</td>\n      <td>Yesterday is History,</td>\n      <td>Emily Dickinson</td>\n      <td>Yesterday is History,\\n'Tis so far away --\\nYe...</td>\n    </tr>\n    <tr>\n      <td>408</td>\n      <td>You Are Old, Father William</td>\n      <td>Lewis Carroll</td>\n      <td>\"You are old, Father william,\" the young man s...</td>\n    </tr>\n    <tr>\n      <td>281</td>\n      <td>You know that Portrait in the Moon --</td>\n      <td>Emily Dickinson</td>\n      <td>You know that Portrait in the Moon --\\nSo tell...</td>\n    </tr>\n    <tr>\n      <td>122</td>\n      <td>You see I cannot see -- your lifetime</td>\n      <td>Emily Dickinson</td>\n      <td>You see I cannot see -- your lifetime --\\nI mu...</td>\n    </tr>\n  </tbody>\n</table>\n<p>519 rows × 3 columns</p>\n</div>"
     },
     "execution_count": 12,
     "metadata": {},
     "output_type": "execute_result"
    }
   ],
   "source": [
    "data.sort_values(by='title')"
   ],
   "metadata": {
    "collapsed": false,
    "pycharm": {
     "name": "#%%\n"
    }
   }
  },
  {
   "cell_type": "code",
   "execution_count": 13,
   "outputs": [
    {
     "data": {
      "text/plain": "Emily Dickinson         361\nWalt Whitman             67\nJohn Keats               25\nJoyce Kilmer             16\nWilliam Butler Yeats     10\nOscar Wilde              10\nLewis Carroll             9\nCharlotte Bronte          8\nEdgar Allan Poe           7\nSir Walter Scott          6\nName: author, dtype: int64"
     },
     "execution_count": 6,
     "metadata": {},
     "output_type": "execute_result"
    },
    {
     "data": {
      "text/plain": "Emily Dickinson         361\nWalt Whitman             67\nJohn Keats               25\nJoyce Kilmer             16\nWilliam Butler Yeats     10\nOscar Wilde              10\nLewis Carroll             9\nCharlotte Bronte          8\nEdgar Allan Poe           7\nSir Walter Scott          6\nName: author, dtype: int64"
     },
     "execution_count": 13,
     "metadata": {},
     "output_type": "execute_result"
    }
   ],
   "source": [
    "authors = data.author\n",
    "freq = authors.value_counts()\n",
    "freq"
   ],
   "metadata": {
    "collapsed": false,
    "pycharm": {
     "name": "#%%\n"
    }
   }
  },
  {
   "cell_type": "code",
   "execution_count": 14,
   "outputs": [
    {
     "data": {
      "text/plain": "<Figure size 432x288 with 1 Axes>",
      "image/png": "[encoded data removed]"
     },
     "metadata": {
      "needs_background": "light"
     },
     "output_type": "display_data"
    },
    {
     "data": {
      "text/plain": "<Figure size 432x288 with 1 Axes>",
      "image/png": "[encoded data removed]"
     },
     "metadata": {
      "needs_background": "light"
     },
     "output_type": "display_data"
    }
   ],
   "source": [
    "plt.hist(freq, bins=100)\n",
    "plt.show()\n",
    "\n"
   ],
   "metadata": {
    "collapsed": false,
    "pycharm": {
     "name": "#%%\n"
    }
   }
  }
 ],
 "metadata": {
  "kernelspec": {
   "name": "python3",
   "language": "python",
   "display_name": "Python 3"
  }
 },
 "nbformat": 4,
 "nbformat_minor": 2
}